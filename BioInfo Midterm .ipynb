{
 "cells": [
  {
   "cell_type": "markdown",
   "id": "c72a738a",
   "metadata": {},
   "source": [
    "Quiz 2"
   ]
  },
  {
   "cell_type": "code",
   "execution_count": null,
   "id": "c2600746",
   "metadata": {},
   "outputs": [],
   "source": [
    "from Bio import SeqIO\n",
    "\n",
    "#Q1\n",
    "filename = \"gbbct1004.seq\"\n",
    "records = list(SeqIO.parse(filename, \"genbank\"))\n",
    "\n",
    "#Q2\n",
    "for record in records:\n",
    "    print(\"Record ID:\", record.id)\n",
    "    print(\"Description:\", record.description)\n",
    "    print(\"------------\")\n",
    "\n",
    "#Q3\n",
    "for record in records:\n",
    "    print(f\"Features for Record {record.id}:\")\n",
    "    for feature in record.features:\n",
    "        print(\"Type:\", feature.type)\n",
    "        print(\"Location:\", feature.location)\n",
    "    print(\"------------\")\n",
    "\n",
    "#Q4\n",
    "#iterating overall pairs for comparison\n",
    "for i, record1 in enumerate(records):\n",
    "    for j, record2 in enumerate(records):\n",
    "        if i != j:\n",
    "            for feature1 in record1.features:\n",
    "                for feature2 in record2.features:\n",
    "                    if feature1.type == feature2.type:\n",
    "                        print(f\"Matched Feature Type: {feature1.type}\")\n",
    "                        print(f\"Location in {record1.id}: {feature1.location}\")\n",
    "                        print(f\"Location in {record2.id}: {feature2.location}\")\n",
    "                        print(\"------------\")\n"
   ]
  },
  {
   "cell_type": "markdown",
   "id": "7ec2415b",
   "metadata": {},
   "source": [
    "Quiz 1"
   ]
  },
  {
   "cell_type": "code",
   "execution_count": null,
   "id": "120f79bd",
   "metadata": {},
   "outputs": [],
   "source": [
    "from Bio import SeqIO\n",
    "from Bio.SeqUtils import GC\n",
    "\n",
    "records = list(SeqIO.parse(\"ls_orchid.fasta\", \"fasta\"))\n",
    "\n",
    "print(\"ID\\tDescription\")\n",
    "for record in records:\n",
    "    print(record.id, record.description)\n",
    "\n",
    "\n",
    "print(\"\\nTotal records:\", len(records))\n",
    "\n",
    "for record in records:\n",
    "    gc = GC(record.seq.upper())\n",
    "    print(record.id, \"\\t\", gc)\n",
    "\n",
    "mrnas = []\n",
    "for record in records:\n",
    "    mrna = record.seq.transcribe()\n",
    "    mrnas.append(mrna)\n",
    "\n",
    "mrnas"
   ]
  },
  {
   "cell_type": "code",
   "execution_count": null,
   "id": "32d689b8",
   "metadata": {},
   "outputs": [],
   "source": [
    "proteins = []\n",
    "for mrna in mrnas:\n",
    "    protein = mrna.translate()\n",
    "    proteins.append(protein)\n",
    "\n",
    "\n",
    "proteins"
   ]
  },
  {
   "cell_type": "code",
   "execution_count": null,
   "id": "ca71d158",
   "metadata": {},
   "outputs": [],
   "source": [
    "with open(\"ls_orchid_proteins.fasta\", \"w\") as output_handle:\n",
    "    for i, protein in enumerate(proteins):\n",
    "        output_handle.write(\">{}_protein\\n{}\\n\".format(records[i].id, protein))"
   ]
  },
  {
   "cell_type": "code",
   "execution_count": null,
   "id": "55e06c79",
   "metadata": {},
   "outputs": [],
   "source": []
  },
  {
   "cell_type": "markdown",
   "id": "0a2b50aa",
   "metadata": {},
   "source": [
    "Assignment 1"
   ]
  },
  {
   "cell_type": "code",
   "execution_count": null,
   "id": "67606746",
   "metadata": {},
   "outputs": [],
   "source": [
    "from Bio import SeqIO\n",
    "from Bio.Seq import Seq\n",
    "from Bio.SeqUtils import GC\n",
    "\n",
    "records = SeqIO.parse(\"gbbct311.seq\", \"genbank\")\n",
    "\n",
    "prot_records = []\n",
    "\n",
    "for record in records:\n",
    "    dna = record.seq\n",
    "    rna = dna.transcribe()\n",
    "    protein = rna.translate()\n",
    "    gc = GC(dna.upper())\n",
    "    print(f\"Record ID: {record.id}\\t GC fraction: {gc}\")\n",
    "    #print(f\"\\tmRNA: {rna}\")\n",
    "    #print(f\"\\tProtein: {protein}\")\n",
    "\n",
    "    new_record = SeqIO.SeqRecord(\n",
    "        protein,\n",
    "        id=record.id,\n",
    "        name=record.name,\n",
    "        description=\"translated from \"+record.id,\n",
    "        annotations={\"molecule_type\": \"protein\"}\n",
    "    )\n",
    "    prot_records.append(new_record)\n",
    "    \n",
    "print(f\"Total records: {len(list(records))}\")\n",
    "\n",
    "\n",
    "SeqIO.write(prot_records, \"2020311_proteins.gb\", \"genbank\")\n"
   ]
  },
  {
   "cell_type": "markdown",
   "id": "a19cc384",
   "metadata": {},
   "source": [
    "Assignment 2"
   ]
  },
  {
   "cell_type": "code",
   "execution_count": null,
   "id": "9bc30b61",
   "metadata": {},
   "outputs": [],
   "source": [
    "from Bio import SeqIO\n",
    "\n",
    "records = list(SeqIO.parse(\"gbbct311.seq\", \"genbank\"))\n",
    "\n",
    "print(f\"Total Number of Records: {len(records)}\\n\") \n",
    "\n",
    "i=0\n",
    "for record in records:\n",
    "  i+=1\n",
    "  \n",
    "\n",
    "  print(f\"\\n\\nRecord ID: {record.id}\")\n",
    "  \n",
    "  print(f\"Number of Features in Record: {len(record.features)}\")\n",
    "\n",
    "  for feature in record.features:\n",
    "  \n",
    "    print(f\"Current Record: {i}\\nFeature Type: {feature.type}, Feature Location: {feature.location}\")\n",
    "    \n",
    "    feature_seq = feature.extract(record.seq)\n",
    "\n",
    "    for other_record in records:\n",
    "    \n",
    "      if other_record.id != record.id:\n",
    "      \n",
    "        if feature_seq in other_record.seq:\n",
    "        \n",
    "          print(f\"Same feature Found in Record ID: {other_record.id} at Location: {other_record.seq.find(feature_seq)}\")"
   ]
  },
  {
   "cell_type": "code",
   "execution_count": null,
   "id": "edd41ae5",
   "metadata": {},
   "outputs": [],
   "source": [
    "import gzip\n",
    "from Bio import SeqIO\n",
    "\n",
    "handle = gzip.open(\"ls_orchid.gbk.gz\", \"rt\")\n",
    "seq = list(SeqIO.parse(handle, \"gb\"))"
   ]
  },
  {
   "cell_type": "code",
   "execution_count": null,
   "id": "f990ff09",
   "metadata": {},
   "outputs": [],
   "source": [
    "from Bio import Align\n",
    "\n",
    "aligner = Align.PairwiseAligner()\n",
    "target = \"GAACT\"\n",
    "query = \"GAT\"\n",
    "alignments = aligner.align(target, query)\n",
    "print(len(alignments))\n",
    "alignment = alignments[1]\n",
    "alignment"
   ]
  },
  {
   "cell_type": "code",
   "execution_count": null,
   "id": "322e2463",
   "metadata": {},
   "outputs": [],
   "source": [
    "print(alignment.score)\n",
    "print(alignment.target)\n",
    "print(alignment.query)\n",
    "print(alignment)\n",
    "print(alignment.coordinates)\n",
    "print(len(alignment))\n",
    "print(alignment.shape)"
   ]
  },
  {
   "cell_type": "code",
   "execution_count": null,
   "id": "bb458aa4",
   "metadata": {},
   "outputs": [],
   "source": [
    "aligner.mode = \"local\"\n",
    "local_alignments = aligner.align(\"TGAACT\", \"GAC\")\n",
    "print(len(local_alignments))\n",
    "local_alignment = local_alignments[0]\n",
    "print(local_alignment)\n",
    "local_alignment.shape\n",
    "alignment.aligned\n"
   ]
  },
  {
   "cell_type": "code",
   "execution_count": null,
   "id": "1c541a77",
   "metadata": {},
   "outputs": [],
   "source": [
    "alignment = local_alignments[1]\n",
    "print(alignment)\n",
    "alignment.aligned\n"
   ]
  },
  {
   "cell_type": "code",
   "execution_count": null,
   "id": "d96725ff",
   "metadata": {},
   "outputs": [],
   "source": [
    "aligner.mode = \"global\"\n",
    "aligner.mismatch_score = -10\n",
    "alignments = aligner.align(\"AAACAAA\", \"AAAGAAA\")\n",
    "len(alignments)\n"
   ]
  },
  {
   "cell_type": "code",
   "execution_count": null,
   "id": "a977efb4",
   "metadata": {},
   "outputs": [],
   "source": [
    "print(alignments[0])\n",
    "print(alignments[1])\n",
    "print(alignments[1].score)\n",
    "print(aligner.algorithm)"
   ]
  },
  {
   "cell_type": "code",
   "execution_count": null,
   "id": "e21debbf",
   "metadata": {},
   "outputs": [],
   "source": [
    "alignments[0].aligned\n"
   ]
  },
  {
   "cell_type": "code",
   "execution_count": null,
   "id": "994ea828",
   "metadata": {},
   "outputs": [],
   "source": [
    "local_alignment = local_alignments[0]\n",
    "print(local_alignment)\n",
    "print(local_alignment.score)\n",
    "local_alignment.sort()\n",
    "print(local_alignment)\n",
    "print(local_alignment.score)"
   ]
  },
  {
   "cell_type": "code",
   "execution_count": null,
   "id": "11d24c88",
   "metadata": {},
   "outputs": [],
   "source": [
    "from Bio.SeqUtils import gc_fraction\n",
    "local_alignment.sort(key=gc_fraction)\n",
    "print(local_alignment)\n",
    "local_alignment.sort(key=gc_fraction, reverse=True)\n",
    "print(local_alignment)\n"
   ]
  },
  {
   "cell_type": "code",
   "execution_count": null,
   "id": "bbcfb64d",
   "metadata": {},
   "outputs": [],
   "source": [
    "target = \"AAAAAAAACCCCCCCCGGGGGGGGTTTTTTTT\"\n",
    "query = \"AAAAAAACCCTCCCCGGCCGGGGTTTAGTTT\"\n",
    "alignments = aligner.align(target, query)\n",
    "aligner.mismatch_score = -1\n",
    "aligner.gap_score = -1\n",
    "alignments = aligner.align(target, query)\n",
    "print(len(alignments))\n",
    "alignment = alignments[0]\n",
    "print(len(alignment))\n",
    "\n"
   ]
  },
  {
   "cell_type": "code",
   "execution_count": null,
   "id": "24cd4186",
   "metadata": {},
   "outputs": [],
   "source": [
    "print(alignments[0])\n",
    "print(alignment.score)\n",
    "m = alignments[0].substitutions\n",
    "print(m)\n"
   ]
  },
  {
   "cell_type": "code",
   "execution_count": null,
   "id": "4ed67978",
   "metadata": {},
   "outputs": [],
   "source": [
    "m += m.transpose()\n",
    "m /= 2.0\n",
    "print(m)"
   ]
  },
  {
   "cell_type": "code",
   "execution_count": null,
   "id": "d8e6a35f",
   "metadata": {},
   "outputs": [],
   "source": []
  },
  {
   "cell_type": "code",
   "execution_count": null,
   "id": "fd39ac20",
   "metadata": {},
   "outputs": [],
   "source": []
  },
  {
   "cell_type": "code",
   "execution_count": null,
   "id": "f526cff4",
   "metadata": {},
   "outputs": [],
   "source": []
  }
 ],
 "metadata": {
  "kernelspec": {
   "display_name": "Python 3 (ipykernel)",
   "language": "python",
   "name": "python3"
  },
  "language_info": {
   "codemirror_mode": {
    "name": "ipython",
    "version": 3
   },
   "file_extension": ".py",
   "mimetype": "text/x-python",
   "name": "python",
   "nbconvert_exporter": "python",
   "pygments_lexer": "ipython3",
   "version": "3.11.3"
  }
 },
 "nbformat": 4,
 "nbformat_minor": 5
}
