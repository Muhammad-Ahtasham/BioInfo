{
 "cells": [
  {
   "cell_type": "code",
   "execution_count": 2,
   "id": "8e5993da",
   "metadata": {},
   "outputs": [],
   "source": [
    "from Bio import LogisticRegression"
   ]
  },
  {
   "cell_type": "code",
   "execution_count": 3,
   "id": "35e1e90e",
   "metadata": {},
   "outputs": [],
   "source": [
    "xs = [\n",
    "    [-53, -200.78],\n",
    "    [117, -267.14],\n",
    "    [57, -163.47],\n",
    "    [16, -190.30],\n",
    "    [11, -220.94],\n",
    "    [85, -193.94],\n",
    "    [16, -182.71],\n",
    "    [15, -180.41],\n",
    "    [-26, -181.73],\n",
    "    [58, -259.87],\n",
    "    [126, -414.53],\n",
    "    [191, -249.57],\n",
    "    [113, -265.28],\n",
    "    [145, -312.99],\n",
    "    [154, -213.83],\n",
    "    [147, -380.85],\n",
    "    [93, -291.13],\n",
    "    ]"
   ]
  },
  {
   "cell_type": "code",
   "execution_count": 4,
   "id": "791e9017",
   "metadata": {},
   "outputs": [],
   "source": [
    "ys = [1, 1, 1, 1, 1, 1, 1, 1, 1, 1, 0, 0, 0, 0, 0, 0, 0]"
   ]
  },
  {
   "cell_type": "code",
   "execution_count": 5,
   "id": "cce2325c",
   "metadata": {},
   "outputs": [],
   "source": [
    "model = LogisticRegression.train(xs, ys)"
   ]
  },
  {
   "cell_type": "code",
   "execution_count": 6,
   "id": "ab7fe07c",
   "metadata": {},
   "outputs": [
    {
     "data": {
      "text/plain": [
       "[8.983029015714463, -0.03596896044485087, 0.02181395662983518]"
      ]
     },
     "execution_count": 6,
     "metadata": {},
     "output_type": "execute_result"
    }
   ],
   "source": [
    "model.beta"
   ]
  },
  {
   "cell_type": "code",
   "execution_count": 7,
   "id": "1b017a4c",
   "metadata": {},
   "outputs": [],
   "source": [
    "def show_progress(iteration, loglikelihood):\n",
    "    print(f\"Iteration: {iteration} Log-likelihood function: {loglikelihood}\")"
   ]
  },
  {
   "cell_type": "code",
   "execution_count": 8,
   "id": "41a59673",
   "metadata": {},
   "outputs": [
    {
     "name": "stdout",
     "output_type": "stream",
     "text": [
      "Iteration: <built-in function iter> Log-likelihood function: -11.78350206951907\n",
      "Iteration: <built-in function iter> Log-likelihood function: -7.158867676721057\n",
      "Iteration: <built-in function iter> Log-likelihood function: -5.768772098679431\n",
      "Iteration: <built-in function iter> Log-likelihood function: -5.11362294338259\n",
      "Iteration: <built-in function iter> Log-likelihood function: -4.748706424325652\n",
      "Iteration: <built-in function iter> Log-likelihood function: -4.500260771460479\n",
      "Iteration: <built-in function iter> Log-likelihood function: -4.311277737371034\n",
      "Iteration: <built-in function iter> Log-likelihood function: -4.160150433955946\n",
      "Iteration: <built-in function iter> Log-likelihood function: -4.035617197847367\n",
      "Iteration: <built-in function iter> Log-likelihood function: -3.9307328219201687\n",
      "Iteration: <built-in function iter> Log-likelihood function: -3.840876609291426\n",
      "Iteration: <built-in function iter> Log-likelihood function: -3.7628256060505034\n",
      "Iteration: <built-in function iter> Log-likelihood function: -3.6942502715443495\n",
      "Iteration: <built-in function iter> Log-likelihood function: -3.6334178601959195\n",
      "Iteration: <built-in function iter> Log-likelihood function: -3.579008558366153\n",
      "Iteration: <built-in function iter> Log-likelihood function: -3.5299967138645894\n",
      "Iteration: <built-in function iter> Log-likelihood function: -3.4855714516343337\n",
      "Iteration: <built-in function iter> Log-likelihood function: -3.4450820613931\n",
      "Iteration: <built-in function iter> Log-likelihood function: -3.407999484465108\n",
      "Iteration: <built-in function iter> Log-likelihood function: -3.373888562399736\n",
      "Iteration: <built-in function iter> Log-likelihood function: -3.3423876581020298\n",
      "Iteration: <built-in function iter> Log-likelihood function: -3.313193437691123\n",
      "Iteration: <built-in function iter> Log-likelihood function: -3.286049334600594\n",
      "Iteration: <built-in function iter> Log-likelihood function: -3.2607366863005254\n",
      "Iteration: <built-in function iter> Log-likelihood function: -3.2370678409148392\n",
      "Iteration: <built-in function iter> Log-likelihood function: -3.2148807361385674\n",
      "Iteration: <built-in function iter> Log-likelihood function: -3.1940345925857243\n",
      "Iteration: <built-in function iter> Log-likelihood function: -3.174406460516387\n",
      "Iteration: <built-in function iter> Log-likelihood function: -3.1558884270318726\n",
      "Iteration: <built-in function iter> Log-likelihood function: -3.1383853394732344\n",
      "Iteration: <built-in function iter> Log-likelihood function: -3.12181293594603\n",
      "Iteration: <built-in function iter> Log-likelihood function: -3.10609629965671\n",
      "Iteration: <built-in function iter> Log-likelihood function: -3.0911685728204\n",
      "Iteration: <built-in function iter> Log-likelihood function: -3.0769698801700427\n",
      "Iteration: <built-in function iter> Log-likelihood function: -3.0634464228770604\n",
      "Iteration: <built-in function iter> Log-likelihood function: -3.050549711911316\n",
      "Iteration: <built-in function iter> Log-likelihood function: -3.038235916185866\n",
      "Iteration: <built-in function iter> Log-likelihood function: -3.0264653057277138\n",
      "Iteration: <built-in function iter> Log-likelihood function: -3.015201773938086\n",
      "Iteration: <built-in function iter> Log-likelihood function: -3.004412426011242\n",
      "Iteration: <built-in function iter> Log-likelihood function: -2.9940672229595724\n",
      "Iteration: <built-in function iter> Log-likelihood function: -2.9841386725875956\n"
     ]
    }
   ],
   "source": [
    "model = LogisticRegression.train(xs, ys, update_fn=show_progress)"
   ]
  },
  {
   "cell_type": "code",
   "execution_count": 9,
   "id": "d5b5452d",
   "metadata": {},
   "outputs": [
    {
     "name": "stdout",
     "output_type": "stream",
     "text": [
      "[8.983029015714463, -0.03596896044485087, 0.02181395662983518]\n"
     ]
    }
   ],
   "source": [
    "print(model.beta)"
   ]
  },
  {
   "cell_type": "code",
   "execution_count": 9,
   "id": "4d58387f",
   "metadata": {},
   "outputs": [
    {
     "name": "stdout",
     "output_type": "stream",
     "text": [
      "yxcE, yxcD: 1\n"
     ]
    }
   ],
   "source": [
    "print(\"yxcE, yxcD:\", LogisticRegression.classify(model, [6, -173.143442352]))"
   ]
  },
  {
   "cell_type": "code",
   "execution_count": 10,
   "id": "6ce868e2",
   "metadata": {},
   "outputs": [
    {
     "name": "stdout",
     "output_type": "stream",
     "text": [
      "yxiB, yxiA: 0\n"
     ]
    }
   ],
   "source": [
    "print(\"yxiB, yxiA:\", LogisticRegression.classify(model, [309, -271.005880394]))"
   ]
  },
  {
   "cell_type": "code",
   "execution_count": 11,
   "id": "b4b735a1",
   "metadata": {},
   "outputs": [],
   "source": [
    "q, p = LogisticRegression.calculate(model, [6, -173.143442352])"
   ]
  },
  {
   "cell_type": "code",
   "execution_count": 12,
   "id": "840557ab",
   "metadata": {},
   "outputs": [
    {
     "name": "stdout",
     "output_type": "stream",
     "text": [
      "class OP: probability = 0.9932421635025626 class NOP: probability = 0.006757836497437442\n"
     ]
    }
   ],
   "source": [
    "print(\"class OP: probability =\", p, \"class NOP: probability =\", q)"
   ]
  },
  {
   "cell_type": "code",
   "execution_count": 13,
   "id": "624300a0",
   "metadata": {},
   "outputs": [
    {
     "name": "stdout",
     "output_type": "stream",
     "text": [
      "class OP: probability = 0.00032121125181733316 class NOP: probability = 0.9996787887481826\n"
     ]
    }
   ],
   "source": [
    "q, p = LogisticRegression.calculate(model, [309, -271.005880394])\n",
    "print(\"class OP: probability =\", p, \"class NOP: probability =\", q)"
   ]
  },
  {
   "cell_type": "code",
   "execution_count": 14,
   "id": "ca144a4e",
   "metadata": {},
   "outputs": [
    {
     "name": "stdout",
     "output_type": "stream",
     "text": [
      "True: 1 Predicted: 1\n",
      "True: 1 Predicted: 0\n",
      "True: 1 Predicted: 1\n",
      "True: 1 Predicted: 1\n",
      "True: 1 Predicted: 1\n",
      "True: 1 Predicted: 1\n",
      "True: 1 Predicted: 1\n",
      "True: 1 Predicted: 1\n",
      "True: 1 Predicted: 1\n",
      "True: 1 Predicted: 1\n",
      "True: 0 Predicted: 0\n",
      "True: 0 Predicted: 0\n",
      "True: 0 Predicted: 0\n",
      "True: 0 Predicted: 0\n",
      "True: 0 Predicted: 0\n",
      "True: 0 Predicted: 0\n",
      "True: 0 Predicted: 0\n"
     ]
    }
   ],
   "source": [
    "for i in range(len(ys)):\n",
    "    print(f\"True: {ys[i]} Predicted: {LogisticRegression.classify(model, xs[i])}\")"
   ]
  },
  {
   "cell_type": "code",
   "execution_count": 15,
   "id": "01a5f82c",
   "metadata": {},
   "outputs": [
    {
     "name": "stdout",
     "output_type": "stream",
     "text": [
      "True: 1 Predicted: 1\n",
      "True: 1 Predicted: 0\n",
      "True: 1 Predicted: 1\n",
      "True: 1 Predicted: 1\n",
      "True: 1 Predicted: 1\n",
      "True: 1 Predicted: 1\n",
      "True: 1 Predicted: 1\n",
      "True: 1 Predicted: 1\n",
      "True: 1 Predicted: 1\n",
      "True: 1 Predicted: 1\n",
      "True: 0 Predicted: 0\n",
      "True: 0 Predicted: 0\n",
      "True: 0 Predicted: 0\n",
      "True: 0 Predicted: 0\n",
      "True: 0 Predicted: 1\n",
      "True: 0 Predicted: 0\n",
      "True: 0 Predicted: 0\n"
     ]
    }
   ],
   "source": [
    "for i in range(len(ys)):\n",
    "    model = LogisticRegression.train(xs[:i] + xs[i + 1 :], ys[:i] + ys[i + 1 :])\n",
    "    print(f\"True: {ys[i]} Predicted: {LogisticRegression.classify(model, xs[i])}\")"
   ]
  },
  {
   "cell_type": "code",
   "execution_count": 16,
   "id": "e57a298a",
   "metadata": {},
   "outputs": [],
   "source": [
    "from Bio import kNN\n",
    "k = 3\n",
    "model = kNN.train(xs, ys, k)"
   ]
  },
  {
   "cell_type": "code",
   "execution_count": 17,
   "id": "fea864a2",
   "metadata": {},
   "outputs": [
    {
     "name": "stdout",
     "output_type": "stream",
     "text": [
      "yxcE, yxcD: 1\n"
     ]
    }
   ],
   "source": [
    "x = [6, -173.143442352]\n",
    "print(\"yxcE, yxcD:\", kNN.classify(model, x))"
   ]
  },
  {
   "cell_type": "code",
   "execution_count": 18,
   "id": "ac864f38",
   "metadata": {},
   "outputs": [
    {
     "name": "stdout",
     "output_type": "stream",
     "text": [
      "yxiB, yxiA: 0\n"
     ]
    }
   ],
   "source": [
    "x = [309, -271.005880394]\n",
    "print(\"yxiB, yxiA:\", kNN.classify(model, x))"
   ]
  },
  {
   "cell_type": "code",
   "execution_count": 19,
   "id": "15e59592",
   "metadata": {},
   "outputs": [],
   "source": [
    "def cityblock(x1, x2):\n",
    "    assert len(x1) == 2\n",
    "    assert len(x2) == 2\n",
    "    distance = abs(x1[0] - x2[0]) + abs(x1[1] - x2[1])\n",
    "    return distance"
   ]
  },
  {
   "cell_type": "code",
   "execution_count": 21,
   "id": "22b6c9e9",
   "metadata": {},
   "outputs": [
    {
     "name": "stdout",
     "output_type": "stream",
     "text": [
      "yxcE, yxcD: 1\n"
     ]
    }
   ],
   "source": [
    "x = [6, -173.143442352]\n",
    "print(\"yxcE, yxcD:\", kNN.classify(model, x, distance_fn=cityblock))"
   ]
  },
  {
   "cell_type": "code",
   "execution_count": 23,
   "id": "ea679db0",
   "metadata": {},
   "outputs": [],
   "source": [
    "import numpy as np\n",
    "def weight(x1, x2):\n",
    "    assert len(x1) == 2\n",
    "    assert len(x2) == 2\n",
    "    return np.exp(-abs(x1[0] - x2[0]) - abs(x1[1] - x2[1]))"
   ]
  },
  {
   "cell_type": "code",
   "execution_count": 24,
   "id": "d3e5ab88",
   "metadata": {},
   "outputs": [
    {
     "name": "stdout",
     "output_type": "stream",
     "text": [
      "yxcE, yxcD: 1\n"
     ]
    }
   ],
   "source": [
    "x = [6, -173.143442352]\n",
    "print(\"yxcE, yxcD:\", kNN.classify(model, x, weight_fn=weight))"
   ]
  },
  {
   "cell_type": "code",
   "execution_count": 25,
   "id": "135443ad",
   "metadata": {},
   "outputs": [
    {
     "name": "stdout",
     "output_type": "stream",
     "text": [
      "class OP: weight = 0.0 class NOP: weight = 3.0\n"
     ]
    }
   ],
   "source": [
    "x = [6, -173.143442352]\n",
    "weight = kNN.calculate(model, x)\n",
    "print(\"class OP: weight =\", weight[0], \"class NOP: weight =\", weight[1])"
   ]
  },
  {
   "cell_type": "code",
   "execution_count": 26,
   "id": "29942791",
   "metadata": {},
   "outputs": [
    {
     "name": "stdout",
     "output_type": "stream",
     "text": [
      "class OP: weight = 2.0 class NOP: weight = 1.0\n"
     ]
    }
   ],
   "source": [
    "x = [117, -267.14]\n",
    "weight = kNN.calculate(model, x)\n",
    "print(\"class OP: weight =\", weight[0], \"class NOP: weight =\", weight[1])"
   ]
  },
  {
   "cell_type": "code",
   "execution_count": 27,
   "id": "d23620d3",
   "metadata": {},
   "outputs": [
    {
     "name": "stdout",
     "output_type": "stream",
     "text": [
      "True: 1 Predicted: 1\n",
      "True: 1 Predicted: 0\n",
      "True: 1 Predicted: 1\n",
      "True: 1 Predicted: 1\n",
      "True: 1 Predicted: 1\n",
      "True: 1 Predicted: 1\n",
      "True: 1 Predicted: 1\n",
      "True: 1 Predicted: 1\n",
      "True: 1 Predicted: 1\n",
      "True: 1 Predicted: 0\n",
      "True: 0 Predicted: 0\n",
      "True: 0 Predicted: 0\n",
      "True: 0 Predicted: 0\n",
      "True: 0 Predicted: 0\n",
      "True: 0 Predicted: 0\n",
      "True: 0 Predicted: 0\n",
      "True: 0 Predicted: 0\n"
     ]
    }
   ],
   "source": [
    "for i in range(len(ys)):\n",
    "    print(f\"True: {ys[i]} Predicted: {kNN.classify(model, xs[i])}\")"
   ]
  },
  {
   "cell_type": "code",
   "execution_count": 28,
   "id": "28b73078",
   "metadata": {},
   "outputs": [
    {
     "name": "stdout",
     "output_type": "stream",
     "text": [
      "True: 1 Predicted: 1\n",
      "True: 1 Predicted: 0\n",
      "True: 1 Predicted: 1\n",
      "True: 1 Predicted: 1\n",
      "True: 1 Predicted: 1\n",
      "True: 1 Predicted: 1\n",
      "True: 1 Predicted: 1\n",
      "True: 1 Predicted: 1\n",
      "True: 1 Predicted: 1\n",
      "True: 1 Predicted: 0\n",
      "True: 0 Predicted: 0\n",
      "True: 0 Predicted: 0\n",
      "True: 0 Predicted: 1\n",
      "True: 0 Predicted: 0\n",
      "True: 0 Predicted: 0\n",
      "True: 0 Predicted: 0\n",
      "True: 0 Predicted: 1\n"
     ]
    }
   ],
   "source": [
    "k = 3\n",
    "for i in range(len(ys)):\n",
    "    model = kNN.train(xs[:i] + xs[i + 1 :], ys[:i] + ys[i + 1 :], k)\n",
    "    print(f\"True: {ys[i]} Predicted: {kNN.classify(model, xs[i])}\")"
   ]
  },
  {
   "cell_type": "code",
   "execution_count": null,
   "id": "b7039708",
   "metadata": {},
   "outputs": [],
   "source": []
  }
 ],
 "metadata": {
  "kernelspec": {
   "display_name": "Python 3 (ipykernel)",
   "language": "python",
   "name": "python3"
  },
  "language_info": {
   "codemirror_mode": {
    "name": "ipython",
    "version": 3
   },
   "file_extension": ".py",
   "mimetype": "text/x-python",
   "name": "python",
   "nbconvert_exporter": "python",
   "pygments_lexer": "ipython3",
   "version": "3.11.5"
  }
 },
 "nbformat": 4,
 "nbformat_minor": 5
}
