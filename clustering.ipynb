{
 "cells": [
  {
   "cell_type": "code",
   "execution_count": 1,
   "id": "0267056f",
   "metadata": {},
   "outputs": [
    {
     "name": "stdout",
     "output_type": "stream",
     "text": [
      "[0 1 0 1]\n"
     ]
    }
   ],
   "source": [
    "from Bio.Cluster import kcluster\n",
    "import numpy as np\n",
    "sequences = [\n",
    "    'ATCGTCGGAATCCCA',\n",
    "    'ATCGTCGGAATTCCA',\n",
    "    'ATACTCGGAATCCCA',\n",
    "    'ATCTTCGGAATCCCA'\n",
    "    ]\n",
    "matrix = np.asarray([np.frombuffer(bytes(s,'UTF-8'), dtype=np.uint8) for s in sequences])\n",
    "clusterid, error, nfound = kcluster(matrix)\n",
    "print(clusterid)"
   ]
  },
  {
   "cell_type": "code",
   "execution_count": 2,
   "id": "dc13487d",
   "metadata": {},
   "outputs": [
    {
     "data": {
      "text/plain": [
       "array([[65, 84, 67, 71, 84, 67, 71, 71, 65, 65, 84, 67, 67, 67, 65],\n",
       "       [65, 84, 67, 71, 84, 67, 71, 71, 65, 65, 84, 84, 67, 67, 65],\n",
       "       [65, 84, 65, 67, 84, 67, 71, 71, 65, 65, 84, 67, 67, 67, 65],\n",
       "       [65, 84, 67, 84, 84, 67, 71, 71, 65, 65, 84, 67, 67, 67, 65]],\n",
       "      dtype=uint8)"
      ]
     },
     "execution_count": 2,
     "metadata": {},
     "output_type": "execute_result"
    }
   ],
   "source": [
    "matrix"
   ]
  },
  {
   "cell_type": "code",
   "execution_count": 3,
   "id": "bded5e46",
   "metadata": {},
   "outputs": [
    {
     "name": "stdout",
     "output_type": "stream",
     "text": [
      "[0 1 0 0]\n"
     ]
    }
   ],
   "source": [
    "from Bio.Cluster import kmedoids\n",
    "from Bio.Cluster import distancematrix\n",
    "distance = distancematrix(matrix)\n",
    "clusterid, error, nfound = kmedoids(distance)\n",
    "print(clusterid)"
   ]
  },
  {
   "cell_type": "code",
   "execution_count": 4,
   "id": "74fd3608",
   "metadata": {},
   "outputs": [
    {
     "data": {
      "text/plain": [
       "[array([], dtype=float64),\n",
       " array([19.26666667]),\n",
       " array([ 1.33333333, 20.6       ]),\n",
       " array([11.26666667, 30.53333333, 19.53333333])]"
      ]
     },
     "execution_count": 4,
     "metadata": {},
     "output_type": "execute_result"
    }
   ],
   "source": [
    "distance"
   ]
  },
  {
   "cell_type": "code",
   "execution_count": 5,
   "id": "51a53c3d",
   "metadata": {},
   "outputs": [],
   "source": [
    "from Bio.Cluster import treecluster\n",
    "tree = treecluster(matrix)"
   ]
  },
  {
   "cell_type": "code",
   "execution_count": 7,
   "id": "7a0ba90c",
   "metadata": {},
   "outputs": [
    {
     "name": "stdout",
     "output_type": "stream",
     "text": [
      "(2, 0): 1.33333\n",
      "(3, -1): 19.5333\n",
      "(1, -2): 30.5333\n"
     ]
    }
   ],
   "source": [
    "print(tree)"
   ]
  },
  {
   "cell_type": "code",
   "execution_count": 8,
   "id": "6fdbcf89",
   "metadata": {},
   "outputs": [
    {
     "name": "stdout",
     "output_type": "stream",
     "text": [
      "[[1 0]\n",
      " [1 0]\n",
      " [1 0]\n",
      " [0 0]]\n"
     ]
    }
   ],
   "source": [
    "from Bio.Cluster import somcluster\n",
    "clusterid, celldata = somcluster(matrix)\n",
    "print(clusterid)"
   ]
  },
  {
   "cell_type": "code",
   "execution_count": null,
   "id": "77381c29",
   "metadata": {},
   "outputs": [],
   "source": []
  }
 ],
 "metadata": {
  "kernelspec": {
   "display_name": "Python 3 (ipykernel)",
   "language": "python",
   "name": "python3"
  },
  "language_info": {
   "codemirror_mode": {
    "name": "ipython",
    "version": 3
   },
   "file_extension": ".py",
   "mimetype": "text/x-python",
   "name": "python",
   "nbconvert_exporter": "python",
   "pygments_lexer": "ipython3",
   "version": "3.11.5"
  }
 },
 "nbformat": 4,
 "nbformat_minor": 5
}
